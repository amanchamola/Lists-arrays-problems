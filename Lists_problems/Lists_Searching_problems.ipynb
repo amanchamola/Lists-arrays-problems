{
 "cells": [
  {
   "cell_type": "markdown",
   "metadata": {},
   "source": [
    "# Basic Lists and Arrays And Searching"
   ]
  },
  {
   "cell_type": "code",
   "execution_count": null,
   "metadata": {},
   "outputs": [],
   "source": []
  },
  {
   "cell_type": "markdown",
   "metadata": {},
   "source": [
    "### Swap Alternate"
   ]
  },
  {
   "cell_type": "code",
   "execution_count": 1,
   "metadata": {},
   "outputs": [
    {
     "name": "stdout",
     "output_type": "stream",
     "text": [
      "6\n",
      "9 3 6 12 4 32\n",
      "3  9  12  6  32  4  "
     ]
    }
   ],
   "source": [
    "n = int(input())\n",
    "li = []\n",
    "li= [int(x) for x in input().strip().split(' ')]\n",
    "flag=False\n",
    "for i in range(0,len(li)-1,2):\n",
    "    li[i],li[i+1] = li[i+1],li[i]\n",
    "\n",
    "for ele in li:\n",
    "    print(ele,' ',end='')\n"
   ]
  },
  {
   "cell_type": "code",
   "execution_count": null,
   "metadata": {},
   "outputs": [],
   "source": []
  },
  {
   "cell_type": "markdown",
   "metadata": {},
   "source": [
    "### Find Unique"
   ]
  },
  {
   "cell_type": "code",
   "execution_count": 2,
   "metadata": {},
   "outputs": [
    {
     "name": "stdout",
     "output_type": "stream",
     "text": [
      "6\n",
      "2 4 1 2 4 4\n",
      "1\n"
     ]
    }
   ],
   "source": [
    "n = int(input())\n",
    "li = []\n",
    "li = [int(x) for x in input().strip().split(' ')]\n",
    "flag = False\n",
    "for i in range(len(li)):\n",
    "    for j in range (len(li)):\n",
    "        if i ==j:\n",
    "            continue\n",
    "        else:\n",
    "            if li[i]==li[j]:\n",
    "                flag = True\n",
    "                break\n",
    "    else:\n",
    "        t = li[i]\n",
    "        \n",
    "\n",
    "print(t)                \n"
   ]
  },
  {
   "cell_type": "code",
   "execution_count": null,
   "metadata": {},
   "outputs": [],
   "source": []
  },
  {
   "cell_type": "markdown",
   "metadata": {},
   "source": [
    "### Find Duplicate"
   ]
  },
  {
   "cell_type": "code",
   "execution_count": 3,
   "metadata": {},
   "outputs": [
    {
     "name": "stdout",
     "output_type": "stream",
     "text": [
      "7\n",
      "1 2 3 3 4 5 6\n",
      "3\n"
     ]
    }
   ],
   "source": [
    "\n",
    "n = int(input())\n",
    "li = []\n",
    "\n",
    "li = [int(x) for x in input().strip().split(' ')]\n",
    "flag = False\n",
    "for i in range(len(li)):\n",
    "    for j in range (len(li)):\n",
    "        if i ==j:\n",
    "            continue\n",
    "        else:\n",
    "            if li[i]==li[j]:\n",
    "                flag = True\n",
    "                t = li[i]\n",
    "print(t)\n",
    "                "
   ]
  },
  {
   "cell_type": "code",
   "execution_count": null,
   "metadata": {},
   "outputs": [],
   "source": []
  },
  {
   "cell_type": "markdown",
   "metadata": {},
   "source": [
    "### Array Intersection"
   ]
  },
  {
   "cell_type": "code",
   "execution_count": 4,
   "metadata": {},
   "outputs": [
    {
     "name": "stdout",
     "output_type": "stream",
     "text": [
      "6\n",
      "2 6 8 5 4 3\n",
      "4\n",
      "2 3 4 7\n",
      "2\n",
      "3\n",
      "4\n"
     ]
    }
   ],
   "source": [
    "n = int(input())\n",
    "li = []\n",
    "li = [int(x) for x in input().strip().split(' ')]\n",
    "k = int(input())\n",
    "ki = []\n",
    "ki = [int(l) for l in input().strip().split(' ')]\n",
    "flag = False\n",
    "for i in range(len(ki)):\n",
    "    for j in range (len(li)):\n",
    "        if ki[i]==li[j]:\n",
    "            flag = True\n",
    "            li[j]=-1\n",
    "            print(ki[i])\n",
    "            break\n",
    "    "
   ]
  },
  {
   "cell_type": "code",
   "execution_count": null,
   "metadata": {},
   "outputs": [],
   "source": []
  },
  {
   "cell_type": "markdown",
   "metadata": {},
   "source": [
    "### Pair Sum"
   ]
  },
  {
   "cell_type": "code",
   "execution_count": 5,
   "metadata": {},
   "outputs": [
    {
     "name": "stdout",
     "output_type": "stream",
     "text": [
      "8\n",
      "1 3 4 5 6 2 7 8\n",
      "10\n",
      "3 7\n",
      "4 6\n",
      "2 8\n"
     ]
    }
   ],
   "source": [
    "n = int(input())\n",
    "li = []\n",
    "li = [int(x) for x in input().strip().split(' ')]\n",
    "x = int(input())\n",
    "flag = False\n",
    "for i in range(len(li)):\n",
    "    for j in range (i,len(li)):\n",
    "        if i ==j:\n",
    "            continue\n",
    "        else:\n",
    "            if li[i]+li[j]== x:\n",
    "                flag = True\n",
    "                if li[i]<li[j]:\n",
    "                    print (li[i],li[j])\n",
    "\n",
    "                else:\n",
    "                    print(li[j],li[i])\n"
   ]
  },
  {
   "cell_type": "code",
   "execution_count": null,
   "metadata": {},
   "outputs": [],
   "source": []
  },
  {
   "cell_type": "markdown",
   "metadata": {},
   "source": [
    "### Triplet Sum"
   ]
  },
  {
   "cell_type": "code",
   "execution_count": 6,
   "metadata": {},
   "outputs": [
    {
     "name": "stdout",
     "output_type": "stream",
     "text": [
      "7\n",
      "1 2 3 4 5 6 7\n",
      "12\n",
      "1 4 7\n",
      "1 5 6\n",
      "2 3 7\n",
      "2 4 6\n",
      "3 4 5\n"
     ]
    }
   ],
   "source": [
    "n = int(input())\n",
    "li = []\n",
    "li = [int(x) for x in input().strip().split(' ')]\n",
    "x = int(input())\n",
    "flag = False\n",
    "for i in range(len(li)):\n",
    "    for j in range (i+1,len(li)):\n",
    "        for k in range(j+1,len(li)):\n",
    "           if li[i]+li[j]+li[k]== x:\n",
    "                li1=[li[i],li[j],li[k]]\n",
    "                li1.sort()\n",
    "                print(*li1)"
   ]
  },
  {
   "cell_type": "code",
   "execution_count": null,
   "metadata": {},
   "outputs": [],
   "source": []
  },
  {
   "cell_type": "markdown",
   "metadata": {},
   "source": [
    "### Sort 0 1"
   ]
  },
  {
   "cell_type": "code",
   "execution_count": 7,
   "metadata": {},
   "outputs": [
    {
     "name": "stdout",
     "output_type": "stream",
     "text": [
      "7\n",
      "0 1 1 0 1 0 1\n",
      "0 0 0 1 1 1 1 "
     ]
    }
   ],
   "source": [
    "def zeroAtEnd(arr):\n",
    "    arr1 = []\n",
    "    arr2 = []\n",
    "    arr3 = []\n",
    "    for i in range(len(arr)):\n",
    "        if arr[i]!=0:\n",
    "            arr1.append(arr[i])\n",
    "\n",
    "        else:\n",
    "            arr2.append(arr[i])\n",
    "\n",
    "\n",
    "    arr3 = arr2 + arr1        \n",
    "    return arr3\n",
    "\n",
    "\n",
    "\n",
    "n = int(input())\n",
    "arr = [int(x) for x in input().strip().split()]\n",
    "arr3 = zeroAtEnd(arr)\n",
    "for ele in arr3:\n",
    "    print (ele,end=' ')"
   ]
  },
  {
   "cell_type": "code",
   "execution_count": null,
   "metadata": {},
   "outputs": [],
   "source": []
  },
  {
   "cell_type": "markdown",
   "metadata": {},
   "source": [
    "### Sort 0 1 2"
   ]
  },
  {
   "cell_type": "code",
   "execution_count": 8,
   "metadata": {},
   "outputs": [
    {
     "name": "stdout",
     "output_type": "stream",
     "text": [
      "7\n",
      "1 2 0 2 1 0 1\n",
      "0 0 1 1 1 2 2 "
     ]
    }
   ],
   "source": [
    "def zeroAtStart(arr):\n",
    "    arr1 = []\n",
    "    arr2 = []\n",
    "    arr3 = []\n",
    "    arr4 = []\n",
    "    for i in range(len(arr)):\n",
    "        if arr[i]==0:\n",
    "            arr1.append(arr[i])\n",
    "\n",
    "        elif arr[i]==1:\n",
    "            arr2.append(arr[i])\n",
    "\n",
    "        else:\n",
    "            arr3.append(arr[i])  \n",
    "\n",
    "    arr4 = arr1 + arr2 + arr3       \n",
    "    return arr4\n",
    "\n",
    "\n",
    "\n",
    "n = int(input())\n",
    "arr = [int(x) for x in input().strip().split()]\n",
    "arr4 = zeroAtStart(arr)\n",
    "for ele in arr4:\n",
    "    print (ele,end=' ')\n"
   ]
  },
  {
   "cell_type": "code",
   "execution_count": null,
   "metadata": {},
   "outputs": [],
   "source": []
  },
  {
   "cell_type": "markdown",
   "metadata": {},
   "source": [
    "### Rotate one array"
   ]
  },
  {
   "cell_type": "code",
   "execution_count": 11,
   "metadata": {},
   "outputs": [
    {
     "name": "stdout",
     "output_type": "stream",
     "text": [
      "7\n",
      "1 2 3 4 5 6 7\n",
      "3\n",
      "4 5 6 7 1 2 3\n"
     ]
    }
   ],
   "source": [
    "def Reverse(arr, start, end):\n",
    "    while(start<end):\n",
    "        arr[start], arr[end] = arr[end], arr[start]\n",
    "        start += 1\n",
    "        end -= 1\n",
    "\n",
    "def Rotate(arr, d):\n",
    "    size=len(arr) \n",
    "    d %= size\n",
    "    Reverse(arr, 0, size-1)\n",
    "    Reverse(arr, 0, size-d-1)\n",
    "    Reverse(arr, size-d, size-1)\n",
    "\n",
    "# Main\n",
    "n=int(input())\n",
    "arr=list(int(i) for i in input().strip().split(' '))\n",
    "d=int(input())\n",
    "Rotate(arr, d)\n",
    "print(*arr)\n"
   ]
  },
  {
   "cell_type": "code",
   "execution_count": null,
   "metadata": {},
   "outputs": [],
   "source": []
  },
  {
   "cell_type": "markdown",
   "metadata": {},
   "source": [
    "### merge two sorted arrays"
   ]
  },
  {
   "cell_type": "code",
   "execution_count": 13,
   "metadata": {},
   "outputs": [
    {
     "name": "stdout",
     "output_type": "stream",
     "text": [
      "5\n",
      "1 3 5 7 11\n",
      "4\n",
      "2 4 6 13\n",
      "1 2 3 4 5 6 7 11 13 "
     ]
    }
   ],
   "source": [
    "def mergeSortedArrays(arr1,arr2):\n",
    "    i=0\n",
    "    j=0\n",
    "    arr=[]\n",
    "    while (i<len(arr1)) and (j<len(arr2)):\n",
    "        if arr2[j]>arr1[i]:\n",
    "            arr.append(arr1[i])\n",
    "            i=i+1\n",
    "            \n",
    "\n",
    "        else:\n",
    "            arr.append(arr2[j])\n",
    "            j=j+1\n",
    "\n",
    "    while i<len(arr1):\n",
    "        arr.append(arr1[i])\n",
    "        i+=1\n",
    "\n",
    "    while j<len(arr2):\n",
    "        arr.append(arr2[j])\n",
    "        j=j+1\n",
    "\n",
    "    return arr    \n",
    "        \n",
    "    \n",
    "n=int(input())        \n",
    "arr1 = [int(x) for x in input().strip().split()]\n",
    "j = int(input())\n",
    "arr2 = [int(x) for x in input().strip().split()]\n",
    "arr = mergeSortedArrays(arr1,arr2)\n",
    "for ele in arr:\n",
    "    print(ele,end=' ')\n"
   ]
  },
  {
   "cell_type": "code",
   "execution_count": null,
   "metadata": {},
   "outputs": [],
   "source": []
  },
  {
   "cell_type": "markdown",
   "metadata": {},
   "source": [
    "### Buble sort"
   ]
  },
  {
   "cell_type": "code",
   "execution_count": 14,
   "metadata": {},
   "outputs": [
    {
     "name": "stdout",
     "output_type": "stream",
     "text": [
      "5\n",
      "9 3 6 2 0\n",
      "0 2 3 6 9 "
     ]
    }
   ],
   "source": [
    "def Bsort(arr=0):\n",
    "    for i in range(len(arr)-1):\n",
    "        for j in range(i+1,len(arr)):\n",
    "            if arr[i]>arr[j]:\n",
    "                arr[i],arr[j]=arr[j],arr[i]\n",
    "\n",
    "\n",
    "\n",
    "n = int(input())\n",
    "arr = [int(x) for x in input().strip().split()]\n",
    "Bsort(arr)\n",
    "for ele in arr:\n",
    "    print(ele, end=' ')\n"
   ]
  },
  {
   "cell_type": "code",
   "execution_count": null,
   "metadata": {},
   "outputs": [],
   "source": []
  },
  {
   "cell_type": "markdown",
   "metadata": {},
   "source": [
    "### Binary Search"
   ]
  },
  {
   "cell_type": "code",
   "execution_count": 15,
   "metadata": {},
   "outputs": [
    {
     "name": "stdout",
     "output_type": "stream",
     "text": [
      "6\n",
      "1 3 4 5 6 7\n",
      "4\n",
      "2\n"
     ]
    }
   ],
   "source": [
    "def binarySearch(arr,element):\n",
    "    start = 0\n",
    "    end = len(arr)-1\n",
    "    while end>=start:\n",
    "        mid = (start+end)//2\n",
    "        if arr[mid]==element:\n",
    "            return mid\n",
    "        elif arr[mid]<=element:\n",
    "            start = mid + 1\n",
    "        else:\n",
    "            end = mid - 1\n",
    "            \n",
    "    else:\n",
    "        return -1\n",
    "\n",
    "n = int(input())\n",
    "arr = [int(x) for x in input().strip().split()]\n",
    "element = int(input())\n",
    "index = binarySearch(arr,element)\n",
    "print (index)\n"
   ]
  },
  {
   "cell_type": "code",
   "execution_count": null,
   "metadata": {},
   "outputs": [],
   "source": []
  }
 ],
 "metadata": {
  "kernelspec": {
   "display_name": "Python 3",
   "language": "python",
   "name": "python3"
  },
  "language_info": {
   "codemirror_mode": {
    "name": "ipython",
    "version": 3
   },
   "file_extension": ".py",
   "mimetype": "text/x-python",
   "name": "python",
   "nbconvert_exporter": "python",
   "pygments_lexer": "ipython3",
   "version": "3.8.3"
  }
 },
 "nbformat": 4,
 "nbformat_minor": 4
}
